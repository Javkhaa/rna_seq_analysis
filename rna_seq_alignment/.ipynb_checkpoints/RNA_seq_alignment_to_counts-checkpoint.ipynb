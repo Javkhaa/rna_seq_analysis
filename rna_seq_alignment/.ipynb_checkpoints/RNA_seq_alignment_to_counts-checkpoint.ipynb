{
 "cells": [
  {
   "cell_type": "code",
   "execution_count": 47,
   "metadata": {
    "ExecuteTime": {
     "end_time": "2020-03-09T21:04:54.257119Z",
     "start_time": "2020-03-09T21:04:54.251746Z"
    }
   },
   "outputs": [],
   "source": [
    "import os\n",
    "import subprocess\n",
    "import sys"
   ]
  },
  {
   "cell_type": "markdown",
   "metadata": {},
   "source": [
    "### Notebook for generating Transcript count from paired end raw FASTQ files\n",
    "\n",
    "__Required program for this notebook__\n",
    "* STAR aligner https://www.ncbi.nlm.nih.gov/pmc/articles/PMC3530905/\n",
    "  * STAR aligner was chosen due to ease of use and benchmarking done by  \n",
    "    https://www.ecseq.com/support/ngs/best-RNA-seq-aligner-comparison-of-mapping-tools\n",
    "  * Pre-built executables can be downloaded from here https://github.com/alexdobin/STAR/tree/master/bin  \n",
    "  \n",
    "__Required files for this notebook__\n",
    "* Reference FASTA file\n",
    "  * S288C genome latest release from https://downloads.yeastgenome.org/sequence/S288C_reference/genome_releases/\n",
    "    * Chromosome names needed to renamed to match with Annotation downloaded below.\n",
    "    * Use the provided code below in cell to rename the chromosomes\n",
    "  * Saccharomyces cerevisiae annotation file from ftp://ftp.ensembl.org/pub/release-99/gtf/saccharomyces_cerevisiae/\n",
    "  \n",
    "__Required scripts for this notebook__\n",
    "* run_generate_star_index.sh\n",
    "  * Script will generate STAR genome index. Genome index is required for running alignment\n",
    "* run_star_aligner.sh\n",
    "  * Script takes STAR genome index generated above and paired end FASTQ files(R1, R2) and generates  \n",
    "    Transcript alignment sorted BAM file.\n",
    "    "
   ]
  },
  {
   "cell_type": "markdown",
   "metadata": {},
   "source": [
    "### If you need to rename the Reference fasta, uncomment the command below and run the cell"
   ]
  },
  {
   "cell_type": "code",
   "execution_count": 76,
   "metadata": {
    "ExecuteTime": {
     "end_time": "2020-03-09T21:52:28.547553Z",
     "start_time": "2020-03-09T21:52:28.525275Z"
    }
   },
   "outputs": [],
   "source": [
    "# Rename the FASTA file to match with annotation\n",
    "# >ref|NC_001133| [org=Saccharomyces cerevisiae] [strain=S288C] [moltype=genomic] [chromosome=I]\n",
    "\n",
    "def rename_chromosomes(input_fasta, output_fasta):\n",
    "    with open(input_fasta) as infasta, open(output_fasta, 'w') as outfasta:\n",
    "        for line in infasta:\n",
    "            if 'mitochondrion' in line:\n",
    "                new_reference_name = '>chrMito'\n",
    "                outfasta.write(new_reference_name + '\\n')\n",
    "            elif line.startswith('>'):\n",
    "                new_reference_name = '>chr' + line.split('chromosome=')[-1][:-2]\n",
    "                outfasta.write(new_reference_name + '\\n')\n",
    "            else:\n",
    "                outfasta.write(line)\n",
    "\n",
    "                \n",
    "# workdir = '/Users/jganbat/Documents/jupyter_notebooks/rna_seq_analysis/'\n",
    "# input_fasta = os.path.join(workdir, 'S288C_reference/S288C_reference_sequence_R64-2-1_20150113.fsa')\n",
    "# output_fasta = os.path.join(workdir, 'S288C_reference/temp.fsa')\n",
    "# rename_chromosomes(input_fasta, output_fasta)                "
   ]
  },
  {
   "cell_type": "markdown",
   "metadata": {},
   "source": [
    "### Generating the STAR aligner index"
   ]
  },
  {
   "cell_type": "code",
   "execution_count": 21,
   "metadata": {
    "ExecuteTime": {
     "end_time": "2020-03-09T19:25:12.274377Z",
     "start_time": "2020-03-09T19:25:12.233820Z"
    }
   },
   "outputs": [],
   "source": [
    "STAR_EXECUTABLE='/Users/jganbat/program_sources/STAR/bin/MacOSX_x86_64/STAR'"
   ]
  },
  {
   "cell_type": "code",
   "execution_count": 20,
   "metadata": {
    "ExecuteTime": {
     "end_time": "2020-03-09T19:20:42.060139Z",
     "start_time": "2020-03-09T19:20:33.220422Z"
    }
   },
   "outputs": [],
   "source": [
    "run_generate_star_index = 'run_generate_star_index.sh'\n",
    "\n",
    "NUM_THREAD=4\n",
    "REF_FASTA='/Users/jganbat/Documents/jupyter_notebooks/rna_seq_analysis/S288C_reference_genome_R64-2-1_20150113/S288C_reference_sequence_chr_renamed.fsa'\n",
    "INDEX_DIR='S288_STAR_index'\n",
    "ANNOTATIONS='/Users/jganbat/Documents/jupyter_notebooks/rna_seq_analysis/Saccharomyces_cerevisiae.R64-1-1.99.gtf'\n",
    "READLEN=150\n",
    "\n",
    "command = ['bash', run_generate_star_index, STAR_EXECUTABLE, REF_FASTA, ANNOTATIONS, INDEX_DIR, str(READLEN)]\n",
    "\n",
    "if subprocess.call(command) != 0:\n",
    "    raise Exception('Index generation failed check Log.out') "
   ]
  },
  {
   "cell_type": "markdown",
   "metadata": {},
   "source": [
    "### Run STAR alignment"
   ]
  },
  {
   "cell_type": "code",
   "execution_count": 27,
   "metadata": {
    "ExecuteTime": {
     "end_time": "2020-03-09T20:08:18.913496Z",
     "start_time": "2020-03-09T20:07:57.764138Z"
    }
   },
   "outputs": [],
   "source": [
    "FASTQ_R1 = 'test_fastqs/test_r1.fastq.gz'\n",
    "FASTQ_R2 = 'test_fastqs/test_r2.fastq.gz'\n",
    "OUTDIR = 'test_alignment/'\n",
    "run_star_aligner = 'run_star_aligner.sh'\n",
    "command = ['bash', run_star_aligner, STAR_EXECUTABLE, INDEX_DIR, FASTQ_R1, FASTQ_R2, OUTDIR]\n",
    "\n",
    "if subprocess.call(command) != 0:\n",
    "    raise Exception('Alignment failed, check Log.out') "
   ]
  },
  {
   "cell_type": "markdown",
   "metadata": {
    "ExecuteTime": {
     "end_time": "2020-03-09T20:51:59.565433Z",
     "start_time": "2020-03-09T20:51:59.502517Z"
    }
   },
   "source": [
    "### Count Transcript and write to file"
   ]
  },
  {
   "cell_type": "code",
   "execution_count": 54,
   "metadata": {
    "ExecuteTime": {
     "end_time": "2020-03-09T21:13:09.405223Z",
     "start_time": "2020-03-09T21:13:08.549709Z"
    }
   },
   "outputs": [],
   "source": [
    "import pysam \n",
    "from collections import defaultdict\n",
    "\n",
    "min_mapq = 255\n",
    "\n",
    "transcript_bam_file = os.path.join(OUTDIR, 'Aligned.toTranscriptome.out.sorted.bam')\n",
    "transcript_counts_dict = defaultdict(int)\n",
    "with pysam.AlignmentFile(transcript_bam_file) as tx_bam:\n",
    "    for record in tx_bam.fetch():\n",
    "        if record.mapping_quality >= min_mapq:\n",
    "            transcript_counts_dict[record.reference_name] += 1\n",
    "            \n",
    "out_transcript_count = 'test_transcript_count/test_counts.tsv'\n",
    "\n",
    "with open(out_transcript_count, 'w') as outfile:\n",
    "    for transcript_name in sorted(transcript_counts_dict.keys()):\n",
    "        transcript_count = transcript_counts_dict[transcript_name]\n",
    "        outfile.write('{}\\t{}\\n'.format(transcript_name, transcript_count))"
   ]
  }
 ],
 "metadata": {
  "kernelspec": {
   "display_name": "Python 3",
   "language": "python",
   "name": "python3"
  },
  "language_info": {
   "codemirror_mode": {
    "name": "ipython",
    "version": 3
   },
   "file_extension": ".py",
   "mimetype": "text/x-python",
   "name": "python",
   "nbconvert_exporter": "python",
   "pygments_lexer": "ipython3",
   "version": "3.7.3"
  }
 },
 "nbformat": 4,
 "nbformat_minor": 2
}
